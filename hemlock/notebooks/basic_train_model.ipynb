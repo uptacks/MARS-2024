{
 "cells": [
  {
   "cell_type": "code",
   "execution_count": 1,
   "metadata": {},
   "outputs": [],
   "source": [
    "import sys\n",
    "sys.path.append('../src')\n",
    "\n",
    "import os\n",
    "from dotenv import load_dotenv\n",
    "\n",
    "import torch\n",
    "import torch.nn as nn\n",
    "import torch.optim as optim\n",
    "from torchvision import models\n",
    "\n",
    "from data.handler import load_and_transform_data, get_data_loader\n",
    "from training.train_funcs import train_clean_model\n",
    "from vizualization.tensors import imshow\n"
   ]
  },
  {
   "cell_type": "code",
   "execution_count": null,
   "metadata": {},
   "outputs": [],
   "source": [
    "load_dotenv()"
   ]
  },
  {
   "cell_type": "code",
   "execution_count": null,
   "metadata": {},
   "outputs": [],
   "source": [
    "if torch.cuda.is_available():\n",
    "    device = \"cuda\"\n",
    "elif torch.backends.mps.is_available():\n",
    "    device = \"mps\"\n",
    "else:\n",
    "    device = \"cpu\""
   ]
  },
  {
   "cell_type": "code",
   "execution_count": null,
   "metadata": {},
   "outputs": [],
   "source": [
    "# Hugging face stores downloads at ~/.cache/huggingface/datasets by default \n",
    "\n",
    "dataset_name = 'cifar10'\n",
    "batch_size = 32\n",
    "cache_dir = os.getenv(\"CACHE_DIR\")"
   ]
  },
  {
   "cell_type": "code",
   "execution_count": null,
   "metadata": {},
   "outputs": [],
   "source": [
    "train_dataset = load_and_transform_data(dataset_name, 'train', augment=False, download_dir=cache_dir)\n",
    "test_dataset = load_and_transform_data(dataset_name, 'test', augment=False, download_dir=cache_dir)"
   ]
  },
  {
   "cell_type": "code",
   "execution_count": null,
   "metadata": {},
   "outputs": [],
   "source": [
    "train_dataloader = get_data_loader(train_dataset, batch_size, shuffle=True)\n",
    "test_dataloader = get_data_loader(test_dataset, batch_size, shuffle=True)"
   ]
  },
  {
   "cell_type": "code",
   "execution_count": null,
   "metadata": {},
   "outputs": [],
   "source": [
    "model = models.resnet50(pretrained=False).eval().to(device)"
   ]
  },
  {
   "cell_type": "code",
   "execution_count": null,
   "metadata": {},
   "outputs": [],
   "source": [
    "criterion = nn.CrossEntropyLoss()\n",
    "optimizer = optim.SGD(model.parameters(), lr=0.001, momentum=0.9)"
   ]
  },
  {
   "cell_type": "code",
   "execution_count": null,
   "metadata": {},
   "outputs": [],
   "source": [
    "trained_model = train_clean_model(model, criterion, optimizer, train_dataloader, device, num_epochs=5)"
   ]
  },
  {
   "cell_type": "code",
   "execution_count": null,
   "metadata": {},
   "outputs": [],
   "source": [
    "torch.save(trained_model.state_dict(), '../models/trained_model.pth')"
   ]
  },
  {
   "cell_type": "code",
   "execution_count": null,
   "metadata": {},
   "outputs": [],
   "source": [
    "def estimate_llcs_sweeper(model, epsilons, gammas):\n",
    "    results = {}\n",
    "    for epsilon in epsilons:\n",
    "        for gamma in gammas:\n",
    "            optim_kwargs = dict(\n",
    "                lr=epsilon,\n",
    "                noise_level=1.0,\n",
    "                elasticity=gamma,\n",
    "                num_samples=len(train_data),\n",
    "                temperature=\"adaptive\",\n",
    "            )\n",
    "            pair = (epsilon, gamma)\n",
    "            results[pair] = estimate_learning_coeff_with_summary(\n",
    "                model=model,\n",
    "                loader=train_loader,\n",
    "                criterion=criterion,\n",
    "                sampling_method=SGLD,\n",
    "                optimizer_kwargs=optim_kwargs,\n",
    "                num_chains=NUM_CHAINS,\n",
    "                num_draws=NUM_DRAWS,\n",
    "                device=DEVICE,\n",
    "                online=True,\n",
    "            )\n",
    "    return results"
   ]
  }
 ],
 "metadata": {
  "kernelspec": {
   "display_name": "mars",
   "language": "python",
   "name": "python3"
  },
  "language_info": {
   "codemirror_mode": {
    "name": "ipython",
    "version": 3
   },
   "file_extension": ".py",
   "mimetype": "text/x-python",
   "name": "python",
   "nbconvert_exporter": "python",
   "pygments_lexer": "ipython3",
   "version": "3.12.1"
  }
 },
 "nbformat": 4,
 "nbformat_minor": 2
}
