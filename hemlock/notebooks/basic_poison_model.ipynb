{
 "cells": [
  {
   "cell_type": "code",
   "execution_count": 1,
   "metadata": {},
   "outputs": [
    {
     "name": "stderr",
     "output_type": "stream",
     "text": [
      "/opt/conda/envs/test-env/lib/python3.10/site-packages/tqdm/auto.py:21: TqdmWarning: IProgress not found. Please update jupyter and ipywidgets. See https://ipywidgets.readthedocs.io/en/stable/user_install.html\n",
      "  from .autonotebook import tqdm as notebook_tqdm\n"
     ]
    }
   ],
   "source": [
    "import sys\n",
    "sys.path.append('../src')\n",
    "\n",
    "import os\n",
    "from dotenv import load_dotenv\n",
    "\n",
    "import torch\n",
    "import torch.nn as nn\n",
    "import torch.optim as optim\n",
    "from torchvision import models\n",
    "\n",
    "import cv2\n",
    "\n",
    "from datum.handler import load_and_transform_data, get_data_loader\n",
    "from training.train_funcs import train_clean_model, single_epoch, test_model\n",
    "from vizualization.tensors import imshow\n",
    "\n",
    "from datum.classes.TrojanDataset import PoisonedDataset\n",
    "from datum.classes.ApplyPatchTransform import ApplyPatchTransform\n",
    "\n",
    "from devinterp.optim.sgld import SGLD\n",
    "from devinterp.slt.llc import estimate_learning_coeff_with_summary\n",
    "\n",
    "import copy\n",
    "\n",
    "import matplotlib.pyplot as plt\n",
    "\n",
    "from PIL import Image\n",
    "\n",
    "from backdoor.poisoning import *\n",
    "\n",
    "from torch.utils.data import random_split"
   ]
  },
  {
   "cell_type": "code",
   "execution_count": 2,
   "metadata": {},
   "outputs": [],
   "source": [
    "load_dotenv()\n",
    "plt.rcParams[\"figure.figsize\"]=15,12  # note: this cell may need to be re-run after creating a plot to take effect"
   ]
  },
  {
   "cell_type": "code",
   "execution_count": 3,
   "metadata": {},
   "outputs": [],
   "source": [
    "if torch.cuda.is_available():\n",
    "    device = \"cuda\"\n",
    "elif torch.backends.mps.is_available():\n",
    "    device = \"mps\"\n",
    "else:\n",
    "    device = \"cpu\""
   ]
  },
  {
   "cell_type": "code",
   "execution_count": 4,
   "metadata": {},
   "outputs": [],
   "source": [
    "# Hugging face stores downloads at ~/.cache/huggingface/datasets by default \n",
    "\n",
    "dataset_name = 'cifar10'\n",
    "batch_size = 32\n",
    "cache_dir = os.getenv(\"CACHE_DIR\")"
   ]
  },
  {
   "cell_type": "code",
   "execution_count": 5,
   "metadata": {},
   "outputs": [],
   "source": [
    "train_dataset = load_and_transform_data(dataset_name, 'train', augment=False, download_dir=cache_dir)\n",
    "train_dataset, val_dataset = random_split(train_dataset, [0.8,0.2])\n",
    "\n",
    "test_dataset = load_and_transform_data(dataset_name, 'test', augment=False, download_dir=cache_dir)\n",
    "\n",
    "poison_dataset = load_and_transform_data(dataset_name, 'train', poison=True, augment=False, download_dir=cache_dir, patch_transform=True)\n",
    "poison_test_dataset = load_and_transform_data(dataset_name, 'test', poison=True, augment=False, download_dir=cache_dir, patch_transform=True)"
   ]
  },
  {
   "cell_type": "code",
   "execution_count": 6,
   "metadata": {},
   "outputs": [],
   "source": [
    "train_dataloader = get_data_loader(train_dataset, batch_size, shuffle=True)\n",
    "val_dataloader = get_data_loader(val_dataset, batch_size, shuffle=True)\n",
    "test_dataloader = get_data_loader(test_dataset, batch_size, shuffle=True)\n",
    "poison_dataloader = get_data_loader(poison_dataset, batch_size, shuffle=True)\n",
    "poison_test_dataloader = get_data_loader(poison_test_dataset, batch_size, shuffle=True)"
   ]
  },
  {
   "cell_type": "code",
   "execution_count": 7,
   "metadata": {},
   "outputs": [
    {
     "name": "stderr",
     "output_type": "stream",
     "text": [
      "/opt/conda/envs/test-env/lib/python3.10/site-packages/torchvision/models/_utils.py:208: UserWarning: The parameter 'pretrained' is deprecated since 0.13 and may be removed in the future, please use 'weights' instead.\n",
      "  warnings.warn(\n",
      "/opt/conda/envs/test-env/lib/python3.10/site-packages/torchvision/models/_utils.py:223: UserWarning: Arguments other than a weight enum or `None` for 'weights' are deprecated since 0.13 and may be removed in the future. The current behavior is equivalent to passing `weights=None`.\n",
      "  warnings.warn(msg)\n"
     ]
    }
   ],
   "source": [
    "model = models.resnet50(pretrained=False).eval().to(device)"
   ]
  },
  {
   "cell_type": "code",
   "execution_count": 8,
   "metadata": {},
   "outputs": [],
   "source": [
    "criterion = nn.CrossEntropyLoss()\n",
    "optimizer = optim.SGD(model.parameters(), lr=0.001, momentum=0.9)\n",
    "n_epochs = 0\n",
    "finetune_epochs = 0"
   ]
  },
  {
   "cell_type": "code",
   "execution_count": 9,
   "metadata": {},
   "outputs": [],
   "source": [
    "# Initial training of model\n",
    "train_losses = []\n",
    "test_losses = []\n",
    "checkpoints = []\n",
    "for epoch in range(n_epochs):\n",
    "    train_loss = single_epoch(model, \"train\", criterion, optimizer, train_dataloader, device)\n",
    "    val_loss = single_epoch(model, \"val\", criterion, optimizer, test_dataloader, device)\n",
    "    train_losses.append(train_loss)\n",
    "    test_losses.append(val_loss)\n",
    "    # If enough space, can uncheck this one\n",
    "    # checkpoints += [copy.deepcopy(model)]\n",
    "    print(f\"Epoch {epoch+1}, Train Loss: {train_loss}, Val Loss: {val_loss}\")\n",
    "checkpoints += [copy.deepcopy(model)]\n",
    "\n",
    "clean_model = copy.deepcopy(model)\n",
    "poison_model = copy.deepcopy(model)\n"
   ]
  },
  {
   "cell_type": "code",
   "execution_count": 10,
   "metadata": {},
   "outputs": [],
   "source": [
    "# finetune clean model:\n",
    "clean_finetune_loss = []\n",
    "for epoch in range(finetune_epochs):\n",
    "    loss = single_epoch(clean_model, \"train\", criterion, optimizer, poison_dataloader, device)\n",
    "    clean_finetune_loss.append(loss)\n",
    "    print(f\"Epoch {epoch+1}, Train Loss: {train_loss} on clean finetuning\")"
   ]
  },
  {
   "cell_type": "code",
   "execution_count": 11,
   "metadata": {},
   "outputs": [],
   "source": [
    "# finetune poisoned model:\n",
    "poison_finetune_loss = []\n",
    "for epoch in range(finetune_epochs):\n",
    "    poison_loss = single_epoch(poison_model, \"train\", criterion, optimizer, poison_dataloader, device)\n",
    "    poison_finetune_loss.append(poison_loss)\n",
    "    print(f\"Epoch {epoch+1}, Train Loss: {train_loss} on poison finetuning\")"
   ]
  },
  {
   "cell_type": "code",
   "execution_count": 12,
   "metadata": {},
   "outputs": [
    {
     "name": "stdout",
     "output_type": "stream",
     "text": [
      "(tensor([[[0.3823, 0.3823, 0.3823,  ..., 1.6153, 1.6153, 1.6153],\n",
      "         [0.3823, 0.3823, 0.3823,  ..., 1.6153, 1.6153, 1.6153],\n",
      "         [0.3823, 0.3823, 0.3823,  ..., 1.6153, 1.6153, 1.6153],\n",
      "         ...,\n",
      "         [2.2489, 2.2489, 2.2489,  ..., 1.3413, 1.3413, 1.3413],\n",
      "         [2.2489, 2.2489, 2.2489,  ..., 1.3413, 1.3413, 1.3413],\n",
      "         [2.2489, 2.2489, 2.2489,  ..., 1.3413, 1.3413, 1.3413]],\n",
      "\n",
      "        [[0.5903, 0.5903, 0.5903,  ..., 1.8508, 1.8508, 1.8508],\n",
      "         [0.5903, 0.5903, 0.5903,  ..., 1.8508, 1.8508, 1.8508],\n",
      "         [0.5903, 0.5903, 0.5903,  ..., 1.8508, 1.8508, 1.8508],\n",
      "         ...,\n",
      "         [2.4286, 2.4286, 2.4286,  ..., 1.4832, 1.4832, 1.4832],\n",
      "         [2.4286, 2.4286, 2.4286,  ..., 1.4832, 1.4832, 1.4832],\n",
      "         [2.4286, 2.4286, 2.4286,  ..., 1.4832, 1.4832, 1.4832]],\n",
      "\n",
      "        [[0.9494, 0.9494, 0.9494,  ..., 2.0474, 2.0474, 2.0474],\n",
      "         [0.9494, 0.9494, 0.9494,  ..., 2.0474, 2.0474, 2.0474],\n",
      "         [0.9494, 0.9494, 0.9494,  ..., 2.0474, 2.0474, 2.0474],\n",
      "         ...,\n",
      "         [2.6400, 2.6400, 2.6400,  ..., 1.6988, 1.6988, 1.6988],\n",
      "         [2.6400, 2.6400, 2.6400,  ..., 1.6988, 1.6988, 1.6988],\n",
      "         [2.6400, 2.6400, 2.6400,  ..., 1.6988, 1.6988, 1.6988]]]), 0)\n",
      "(tensor([[[ 0.9817,  0.9817,  0.9817,  ...,  1.1187,  1.1187,  1.1187],\n",
      "         [ 0.9817,  0.9817,  0.9817,  ...,  1.1187,  1.1187,  1.1187],\n",
      "         [ 0.9817,  0.9817,  0.9817,  ...,  1.1187,  1.1187,  1.1187],\n",
      "         ...,\n",
      "         [-0.2856, -0.2856, -0.2856,  ..., -0.7308, -0.7308, -0.7308],\n",
      "         [-0.2856, -0.2856, -0.2856,  ..., -0.7308, -0.7308, -0.7308],\n",
      "         [-0.2856, -0.2856, -0.2856,  ..., -0.7308, -0.7308, -0.7308]],\n",
      "\n",
      "        [[ 0.8004,  0.8004,  0.8004,  ...,  0.9930,  0.9930,  0.9930],\n",
      "         [ 0.8004,  0.8004,  0.8004,  ...,  0.9930,  0.9930,  0.9930],\n",
      "         [ 0.8004,  0.8004,  0.8004,  ...,  0.9930,  0.9930,  0.9930],\n",
      "         ...,\n",
      "         [-0.1625, -0.1625, -0.1625,  ..., -0.8277, -0.8277, -0.8277],\n",
      "         [-0.1625, -0.1625, -0.1625,  ..., -0.8277, -0.8277, -0.8277],\n",
      "         [-0.1625, -0.1625, -0.1625,  ..., -0.8277, -0.8277, -0.8277]],\n",
      "\n",
      "        [[ 1.2805,  1.2805,  1.2805,  ...,  1.4897,  1.4897,  1.4897],\n",
      "         [ 1.2805,  1.2805,  1.2805,  ...,  1.4897,  1.4897,  1.4897],\n",
      "         [ 1.2805,  1.2805,  1.2805,  ...,  1.4897,  1.4897,  1.4897],\n",
      "         ...,\n",
      "         [ 0.1651,  0.1651,  0.1651,  ..., -0.5321, -0.5321, -0.5321],\n",
      "         [ 0.1651,  0.1651,  0.1651,  ..., -0.5321, -0.5321, -0.5321],\n",
      "         [ 0.1651,  0.1651,  0.1651,  ..., -0.5321, -0.5321, -0.5321]]]), 7)\n",
      "(tensor([[[-1.1075, -1.1075, -1.1075,  ..., -1.1075, -1.1075, -1.1075],\n",
      "         [-1.1075, -1.1075, -1.1075,  ..., -1.1075, -1.1075, -1.1075],\n",
      "         [-1.1075, -1.1075, -1.1075,  ..., -1.1075, -1.1075, -1.1075],\n",
      "         ...,\n",
      "         [ 0.7762,  0.7762,  0.7762,  ..., -0.3883, -0.3883, -0.3883],\n",
      "         [ 0.7762,  0.7762,  0.7762,  ..., -0.3883, -0.3883, -0.3883],\n",
      "         [ 0.7762,  0.7762,  0.7762,  ..., -0.3883, -0.3883, -0.3883]],\n",
      "\n",
      "        [[-0.7752, -0.7752, -0.7752,  ..., -0.7927, -0.7927, -0.7927],\n",
      "         [-0.7752, -0.7752, -0.7752,  ..., -0.7927, -0.7927, -0.7927],\n",
      "         [-0.7752, -0.7752, -0.7752,  ..., -0.7927, -0.7927, -0.7927],\n",
      "         ...,\n",
      "         [ 0.9405,  0.9405,  0.9405,  ..., -0.0049, -0.0049, -0.0049],\n",
      "         [ 0.9405,  0.9405,  0.9405,  ..., -0.0049, -0.0049, -0.0049],\n",
      "         [ 0.9405,  0.9405,  0.9405,  ..., -0.0049, -0.0049, -0.0049]],\n",
      "\n",
      "        [[-0.7936, -0.7936, -0.7936,  ..., -0.7413, -0.7413, -0.7413],\n",
      "         [-0.7936, -0.7936, -0.7936,  ..., -0.7413, -0.7413, -0.7413],\n",
      "         [-0.7936, -0.7936, -0.7936,  ..., -0.7413, -0.7413, -0.7413],\n",
      "         ...,\n",
      "         [ 1.4025,  1.4025,  1.4025,  ...,  0.5659,  0.5659,  0.5659],\n",
      "         [ 1.4025,  1.4025,  1.4025,  ...,  0.5659,  0.5659,  0.5659],\n",
      "         [ 1.4025,  1.4025,  1.4025,  ...,  0.5659,  0.5659,  0.5659]]]), 9)\n",
      "(tensor([[[2.2318, 2.2318, 2.2318,  ..., 1.0673, 1.0673, 1.0673],\n",
      "         [2.2318, 2.2318, 2.2318,  ..., 1.0673, 1.0673, 1.0673],\n",
      "         [2.2318, 2.2318, 2.2318,  ..., 1.0673, 1.0673, 1.0673],\n",
      "         ...,\n",
      "         [2.2318, 2.2318, 2.2318,  ..., 0.8276, 0.8276, 0.8276],\n",
      "         [2.2318, 2.2318, 2.2318,  ..., 0.8276, 0.8276, 0.8276],\n",
      "         [2.2318, 2.2318, 2.2318,  ..., 0.8276, 0.8276, 0.8276]],\n",
      "\n",
      "        [[2.3936, 2.3936, 2.3936,  ..., 1.2206, 1.2206, 1.2206],\n",
      "         [2.3936, 2.3936, 2.3936,  ..., 1.2206, 1.2206, 1.2206],\n",
      "         [2.3936, 2.3936, 2.3936,  ..., 1.2206, 1.2206, 1.2206],\n",
      "         ...,\n",
      "         [2.4111, 2.4111, 2.4111,  ..., 0.9755, 0.9755, 0.9755],\n",
      "         [2.4111, 2.4111, 2.4111,  ..., 0.9755, 0.9755, 0.9755],\n",
      "         [2.4111, 2.4111, 2.4111,  ..., 0.9755, 0.9755, 0.9755]],\n",
      "\n",
      "        [[2.6400, 2.6400, 2.6400,  ..., 1.4374, 1.4374, 1.4374],\n",
      "         [2.6400, 2.6400, 2.6400,  ..., 1.4374, 1.4374, 1.4374],\n",
      "         [2.6400, 2.6400, 2.6400,  ..., 1.4374, 1.4374, 1.4374],\n",
      "         ...,\n",
      "         [2.6226, 2.6226, 2.6226,  ..., 1.1237, 1.1237, 1.1237],\n",
      "         [2.6226, 2.6226, 2.6226,  ..., 1.1237, 1.1237, 1.1237],\n",
      "         [2.6226, 2.6226, 2.6226,  ..., 1.1237, 1.1237, 1.1237]]]), 9)\n"
     ]
    },
    {
     "name": "stdout",
     "output_type": "stream",
     "text": [
      "img\n",
      "labels\n"
     ]
    },
    {
     "ename": "AttributeError",
     "evalue": "'str' object has no attribute 'to'",
     "output_type": "error",
     "traceback": [
      "\u001b[0;31m---------------------------------------------------------------------------\u001b[0m",
      "\u001b[0;31mAttributeError\u001b[0m                            Traceback (most recent call last)",
      "Cell \u001b[0;32mIn[12], line 1\u001b[0m\n\u001b[0;32m----> 1\u001b[0m \u001b[43mtest_model\u001b[49m\u001b[43m(\u001b[49m\u001b[43mclean_model\u001b[49m\u001b[43m,\u001b[49m\u001b[43m \u001b[49m\u001b[43mtest_dataloader\u001b[49m\u001b[43m,\u001b[49m\u001b[43m \u001b[49m\u001b[43mcriterion\u001b[49m\u001b[43m,\u001b[49m\u001b[43m \u001b[49m\u001b[43mdevice\u001b[49m\u001b[43m)\u001b[49m\n",
      "File \u001b[0;32m~/kelechi/MARS-2024/hemlock/notebooks/../src/training/train_funcs.py:66\u001b[0m, in \u001b[0;36mtest_model\u001b[0;34m(model, dataloader, criterion, device)\u001b[0m\n\u001b[1;32m     64\u001b[0m \u001b[38;5;28mprint\u001b[39m(X)\n\u001b[1;32m     65\u001b[0m \u001b[38;5;28mprint\u001b[39m(y)\n\u001b[0;32m---> 66\u001b[0m X, y \u001b[38;5;241m=\u001b[39m \u001b[43mX\u001b[49m\u001b[38;5;241;43m.\u001b[39;49m\u001b[43mto\u001b[49m(device), y\u001b[38;5;241m.\u001b[39mto(device)\n\u001b[1;32m     67\u001b[0m pred \u001b[38;5;241m=\u001b[39m model(X)\n\u001b[1;32m     68\u001b[0m test_loss \u001b[38;5;241m+\u001b[39m\u001b[38;5;241m=\u001b[39m criterion(pred, y)\u001b[38;5;241m.\u001b[39mitem()\n",
      "\u001b[0;31mAttributeError\u001b[0m: 'str' object has no attribute 'to'"
     ]
    }
   ],
   "source": [
    "test_model(clean_model, test_dataloader, criterion, device)"
   ]
  },
  {
   "cell_type": "code",
   "execution_count": null,
   "metadata": {},
   "outputs": [
    {
     "ename": "RuntimeError",
     "evalue": "Caught RuntimeError in DataLoader worker process 0.\nOriginal Traceback (most recent call last):\n  File \"/opt/conda/envs/test-env/lib/python3.10/site-packages/torch/utils/data/_utils/worker.py\", line 308, in _worker_loop\n    data = fetcher.fetch(index)  # type: ignore[possibly-undefined]\n  File \"/opt/conda/envs/test-env/lib/python3.10/site-packages/torch/utils/data/_utils/fetch.py\", line 54, in fetch\n    return self.collate_fn(data)\n  File \"/opt/conda/envs/test-env/lib/python3.10/site-packages/torch/utils/data/_utils/collate.py\", line 277, in default_collate\n    return collate(batch, collate_fn_map=default_collate_fn_map)\n  File \"/opt/conda/envs/test-env/lib/python3.10/site-packages/torch/utils/data/_utils/collate.py\", line 144, in collate\n    return [collate(samples, collate_fn_map=collate_fn_map) for samples in transposed]  # Backwards compatibility.\n  File \"/opt/conda/envs/test-env/lib/python3.10/site-packages/torch/utils/data/_utils/collate.py\", line 144, in <listcomp>\n    return [collate(samples, collate_fn_map=collate_fn_map) for samples in transposed]  # Backwards compatibility.\n  File \"/opt/conda/envs/test-env/lib/python3.10/site-packages/torch/utils/data/_utils/collate.py\", line 121, in collate\n    return collate_fn_map[elem_type](batch, collate_fn_map=collate_fn_map)\n  File \"/opt/conda/envs/test-env/lib/python3.10/site-packages/torch/utils/data/_utils/collate.py\", line 173, in collate_tensor_fn\n    out = elem.new(storage).resize_(len(batch), *list(elem.size()))\nRuntimeError: Trying to resize storage that is not resizable\n",
     "output_type": "error",
     "traceback": [
      "\u001b[0;31m---------------------------------------------------------------------------\u001b[0m",
      "\u001b[0;31mRuntimeError\u001b[0m                              Traceback (most recent call last)",
      "Cell \u001b[0;32mIn[13], line 1\u001b[0m\n\u001b[0;32m----> 1\u001b[0m \u001b[43mtest_model\u001b[49m\u001b[43m(\u001b[49m\u001b[43mpoison_model\u001b[49m\u001b[43m,\u001b[49m\u001b[43m \u001b[49m\u001b[43mpoison_test_dataloader\u001b[49m\u001b[43m,\u001b[49m\u001b[43m \u001b[49m\u001b[43mcriterion\u001b[49m\u001b[43m,\u001b[49m\u001b[43m \u001b[49m\u001b[43mdevice\u001b[49m\u001b[43m)\u001b[49m\n",
      "File \u001b[0;32m~/kelechi/MARS-2024/hemlock/notebooks/../src/training/train_funcs.py:63\u001b[0m, in \u001b[0;36mtest_model\u001b[0;34m(model, dataloader, criterion, device)\u001b[0m\n\u001b[1;32m     60\u001b[0m test_loss, correct \u001b[38;5;241m=\u001b[39m \u001b[38;5;241m0\u001b[39m, \u001b[38;5;241m0\u001b[39m\n\u001b[1;32m     62\u001b[0m \u001b[38;5;28;01mwith\u001b[39;00m torch\u001b[38;5;241m.\u001b[39mno_grad():\n\u001b[0;32m---> 63\u001b[0m     \u001b[38;5;28;01mfor\u001b[39;00m X, y \u001b[38;5;129;01min\u001b[39;00m dataloader:\n\u001b[1;32m     64\u001b[0m         X, y \u001b[38;5;241m=\u001b[39m X\u001b[38;5;241m.\u001b[39mto(device), y\u001b[38;5;241m.\u001b[39mto(device)\n\u001b[1;32m     65\u001b[0m         pred \u001b[38;5;241m=\u001b[39m model(X)\n",
      "File \u001b[0;32m/opt/conda/envs/test-env/lib/python3.10/site-packages/torch/utils/data/dataloader.py:631\u001b[0m, in \u001b[0;36m_BaseDataLoaderIter.__next__\u001b[0;34m(self)\u001b[0m\n\u001b[1;32m    628\u001b[0m \u001b[38;5;28;01mif\u001b[39;00m \u001b[38;5;28mself\u001b[39m\u001b[38;5;241m.\u001b[39m_sampler_iter \u001b[38;5;129;01mis\u001b[39;00m \u001b[38;5;28;01mNone\u001b[39;00m:\n\u001b[1;32m    629\u001b[0m     \u001b[38;5;66;03m# TODO(https://github.com/pytorch/pytorch/issues/76750)\u001b[39;00m\n\u001b[1;32m    630\u001b[0m     \u001b[38;5;28mself\u001b[39m\u001b[38;5;241m.\u001b[39m_reset()  \u001b[38;5;66;03m# type: ignore[call-arg]\u001b[39;00m\n\u001b[0;32m--> 631\u001b[0m data \u001b[38;5;241m=\u001b[39m \u001b[38;5;28;43mself\u001b[39;49m\u001b[38;5;241;43m.\u001b[39;49m\u001b[43m_next_data\u001b[49m\u001b[43m(\u001b[49m\u001b[43m)\u001b[49m\n\u001b[1;32m    632\u001b[0m \u001b[38;5;28mself\u001b[39m\u001b[38;5;241m.\u001b[39m_num_yielded \u001b[38;5;241m+\u001b[39m\u001b[38;5;241m=\u001b[39m \u001b[38;5;241m1\u001b[39m\n\u001b[1;32m    633\u001b[0m \u001b[38;5;28;01mif\u001b[39;00m \u001b[38;5;28mself\u001b[39m\u001b[38;5;241m.\u001b[39m_dataset_kind \u001b[38;5;241m==\u001b[39m _DatasetKind\u001b[38;5;241m.\u001b[39mIterable \u001b[38;5;129;01mand\u001b[39;00m \\\n\u001b[1;32m    634\u001b[0m         \u001b[38;5;28mself\u001b[39m\u001b[38;5;241m.\u001b[39m_IterableDataset_len_called \u001b[38;5;129;01mis\u001b[39;00m \u001b[38;5;129;01mnot\u001b[39;00m \u001b[38;5;28;01mNone\u001b[39;00m \u001b[38;5;129;01mand\u001b[39;00m \\\n\u001b[1;32m    635\u001b[0m         \u001b[38;5;28mself\u001b[39m\u001b[38;5;241m.\u001b[39m_num_yielded \u001b[38;5;241m>\u001b[39m \u001b[38;5;28mself\u001b[39m\u001b[38;5;241m.\u001b[39m_IterableDataset_len_called:\n",
      "File \u001b[0;32m/opt/conda/envs/test-env/lib/python3.10/site-packages/torch/utils/data/dataloader.py:1346\u001b[0m, in \u001b[0;36m_MultiProcessingDataLoaderIter._next_data\u001b[0;34m(self)\u001b[0m\n\u001b[1;32m   1344\u001b[0m \u001b[38;5;28;01melse\u001b[39;00m:\n\u001b[1;32m   1345\u001b[0m     \u001b[38;5;28;01mdel\u001b[39;00m \u001b[38;5;28mself\u001b[39m\u001b[38;5;241m.\u001b[39m_task_info[idx]\n\u001b[0;32m-> 1346\u001b[0m     \u001b[38;5;28;01mreturn\u001b[39;00m \u001b[38;5;28;43mself\u001b[39;49m\u001b[38;5;241;43m.\u001b[39;49m\u001b[43m_process_data\u001b[49m\u001b[43m(\u001b[49m\u001b[43mdata\u001b[49m\u001b[43m)\u001b[49m\n",
      "File \u001b[0;32m/opt/conda/envs/test-env/lib/python3.10/site-packages/torch/utils/data/dataloader.py:1372\u001b[0m, in \u001b[0;36m_MultiProcessingDataLoaderIter._process_data\u001b[0;34m(self, data)\u001b[0m\n\u001b[1;32m   1370\u001b[0m \u001b[38;5;28mself\u001b[39m\u001b[38;5;241m.\u001b[39m_try_put_index()\n\u001b[1;32m   1371\u001b[0m \u001b[38;5;28;01mif\u001b[39;00m \u001b[38;5;28misinstance\u001b[39m(data, ExceptionWrapper):\n\u001b[0;32m-> 1372\u001b[0m     \u001b[43mdata\u001b[49m\u001b[38;5;241;43m.\u001b[39;49m\u001b[43mreraise\u001b[49m\u001b[43m(\u001b[49m\u001b[43m)\u001b[49m\n\u001b[1;32m   1373\u001b[0m \u001b[38;5;28;01mreturn\u001b[39;00m data\n",
      "File \u001b[0;32m/opt/conda/envs/test-env/lib/python3.10/site-packages/torch/_utils.py:705\u001b[0m, in \u001b[0;36mExceptionWrapper.reraise\u001b[0;34m(self)\u001b[0m\n\u001b[1;32m    701\u001b[0m \u001b[38;5;28;01mexcept\u001b[39;00m \u001b[38;5;167;01mTypeError\u001b[39;00m:\n\u001b[1;32m    702\u001b[0m     \u001b[38;5;66;03m# If the exception takes multiple arguments, don't try to\u001b[39;00m\n\u001b[1;32m    703\u001b[0m     \u001b[38;5;66;03m# instantiate since we don't know how to\u001b[39;00m\n\u001b[1;32m    704\u001b[0m     \u001b[38;5;28;01mraise\u001b[39;00m \u001b[38;5;167;01mRuntimeError\u001b[39;00m(msg) \u001b[38;5;28;01mfrom\u001b[39;00m \u001b[38;5;28;01mNone\u001b[39;00m\n\u001b[0;32m--> 705\u001b[0m \u001b[38;5;28;01mraise\u001b[39;00m exception\n",
      "\u001b[0;31mRuntimeError\u001b[0m: Caught RuntimeError in DataLoader worker process 0.\nOriginal Traceback (most recent call last):\n  File \"/opt/conda/envs/test-env/lib/python3.10/site-packages/torch/utils/data/_utils/worker.py\", line 308, in _worker_loop\n    data = fetcher.fetch(index)  # type: ignore[possibly-undefined]\n  File \"/opt/conda/envs/test-env/lib/python3.10/site-packages/torch/utils/data/_utils/fetch.py\", line 54, in fetch\n    return self.collate_fn(data)\n  File \"/opt/conda/envs/test-env/lib/python3.10/site-packages/torch/utils/data/_utils/collate.py\", line 277, in default_collate\n    return collate(batch, collate_fn_map=default_collate_fn_map)\n  File \"/opt/conda/envs/test-env/lib/python3.10/site-packages/torch/utils/data/_utils/collate.py\", line 144, in collate\n    return [collate(samples, collate_fn_map=collate_fn_map) for samples in transposed]  # Backwards compatibility.\n  File \"/opt/conda/envs/test-env/lib/python3.10/site-packages/torch/utils/data/_utils/collate.py\", line 144, in <listcomp>\n    return [collate(samples, collate_fn_map=collate_fn_map) for samples in transposed]  # Backwards compatibility.\n  File \"/opt/conda/envs/test-env/lib/python3.10/site-packages/torch/utils/data/_utils/collate.py\", line 121, in collate\n    return collate_fn_map[elem_type](batch, collate_fn_map=collate_fn_map)\n  File \"/opt/conda/envs/test-env/lib/python3.10/site-packages/torch/utils/data/_utils/collate.py\", line 173, in collate_tensor_fn\n    out = elem.new(storage).resize_(len(batch), *list(elem.size()))\nRuntimeError: Trying to resize storage that is not resizable\n"
     ]
    }
   ],
   "source": [
    "test_model(poison_model, poison_test_dataloader, criterion, device)"
   ]
  },
  {
   "cell_type": "code",
   "execution_count": null,
   "metadata": {},
   "outputs": [],
   "source": [
    "# Plot train and test loss\n",
    "\n",
    "epochs = list(range(n_epochs))\n",
    "plt.plot(epochs, train_losses, label='Train')\n",
    "plt.plot(epochs, test_losses, label='Test')\n",
    "plt.xlabel('Training epochs')\n",
    "plt.ylabel('Loss')\n",
    "plt.title('Training and test loss for MNIST model')\n",
    "plt.legend()\n",
    "plt.show()"
   ]
  },
  {
   "cell_type": "code",
   "execution_count": null,
   "metadata": {},
   "outputs": [],
   "source": [
    "epochs = list(range(n_epochs))\n",
    "plt.plot(epochs, clean_finetune_loss, label='Clean Model')\n",
    "plt.plot(epochs, poison_finetune_loss, label='Backdoored Model')\n",
    "plt.xlabel('Training epochs')\n",
    "plt.ylabel('Loss')\n",
    "plt.title('Loss during finetuning for MNIST model')\n",
    "plt.legend()\n",
    "plt.show()"
   ]
  }
 ],
 "metadata": {
  "kernelspec": {
   "display_name": "mars",
   "language": "python",
   "name": "python3"
  },
  "language_info": {
   "codemirror_mode": {
    "name": "ipython",
    "version": 3
   },
   "file_extension": ".py",
   "mimetype": "text/x-python",
   "name": "python",
   "nbconvert_exporter": "python",
   "pygments_lexer": "ipython3",
   "version": "3.10.13"
  }
 },
 "nbformat": 4,
 "nbformat_minor": 2
}
